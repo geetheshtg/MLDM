{
 "cells": [
  {
   "cell_type": "code",
   "execution_count": 4,
   "metadata": {
    "colab": {},
    "colab_type": "code",
    "id": "QxZ73w9-1sWg"
   },
   "outputs": [],
   "source": [
    "import numpy as np\n",
    "import pandas as pd\n",
    "import matplotlib.pyplot as plt"
   ]
  },
  {
   "cell_type": "code",
   "execution_count": 5,
   "metadata": {
    "colab": {},
    "colab_type": "code",
    "id": "QUZW0VeS1tTY"
   },
   "outputs": [],
   "source": [
    "df = pd.read_csv(\"house_price.csv\")"
   ]
  },
  {
   "cell_type": "code",
   "execution_count": 6,
   "metadata": {
    "colab": {
     "base_uri": "https://localhost:8080/",
     "height": 34
    },
    "colab_type": "code",
    "id": "f6JUa5gf1zdZ",
    "outputId": "fd789576-e864-4acd-80fc-bfd961195908"
   },
   "outputs": [
    {
     "data": {
      "text/plain": [
       "35"
      ]
     },
     "execution_count": 6,
     "metadata": {},
     "output_type": "execute_result"
    }
   ],
   "source": [
    "#1\n",
    "df.shape[1]"
   ]
  },
  {
   "cell_type": "code",
   "execution_count": 7,
   "metadata": {
    "colab": {
     "base_uri": "https://localhost:8080/",
     "height": 731
    },
    "colab_type": "code",
    "id": "a-pic-9B14zY",
    "outputId": "aef9b91e-7bf9-4201-c849-ba4d8fa6af02"
   },
   "outputs": [
    {
     "name": "stdout",
     "output_type": "stream",
     "text": [
      "<class 'pandas.core.frame.DataFrame'>\n",
      "RangeIndex: 1379 entries, 0 to 1378\n",
      "Data columns (total 35 columns):\n",
      " #   Column         Non-Null Count  Dtype  \n",
      "---  ------         --------------  -----  \n",
      " 0   LotFrontage    1379 non-null   float64\n",
      " 1   LotArea        1379 non-null   int64  \n",
      " 2   OverallQual    1379 non-null   int64  \n",
      " 3   OverallCond    1379 non-null   int64  \n",
      " 4   YearBuilt      1379 non-null   int64  \n",
      " 5   YearRemodAdd   1379 non-null   int64  \n",
      " 6   MasVnrArea     1379 non-null   float64\n",
      " 7   BsmtFinSF1     1379 non-null   int64  \n",
      " 8   BsmtFinSF2     1379 non-null   int64  \n",
      " 9   BsmtUnfSF      1379 non-null   int64  \n",
      " 10  TotalBsmtSF    1379 non-null   int64  \n",
      " 11  1stFlrSF       1379 non-null   int64  \n",
      " 12  2ndFlrSF       1379 non-null   int64  \n",
      " 13  LowQualFinSF   1379 non-null   int64  \n",
      " 14  GrLivArea      1379 non-null   int64  \n",
      " 15  BsmtFullBath   1379 non-null   int64  \n",
      " 16  BsmtHalfBath   1379 non-null   int64  \n",
      " 17  FullBath       1379 non-null   int64  \n",
      " 18  HalfBath       1379 non-null   int64  \n",
      " 19  BedroomAbvGr   1379 non-null   int64  \n",
      " 20  KitchenAbvGr   1379 non-null   int64  \n",
      " 21  TotRmsAbvGrd   1379 non-null   int64  \n",
      " 22  Fireplaces     1379 non-null   int64  \n",
      " 23  GarageYrBlt    1379 non-null   float64\n",
      " 24  GarageCars     1379 non-null   int64  \n",
      " 25  GarageArea     1379 non-null   int64  \n",
      " 26  WoodDeckSF     1379 non-null   int64  \n",
      " 27  OpenPorchSF    1379 non-null   int64  \n",
      " 28  EnclosedPorch  1379 non-null   int64  \n",
      " 29  3SsnPorch      1379 non-null   int64  \n",
      " 30  ScreenPorch    1379 non-null   int64  \n",
      " 31  PoolArea       1379 non-null   int64  \n",
      " 32  MiscVal        1379 non-null   int64  \n",
      " 33  YrSold         1379 non-null   int64  \n",
      " 34  SalePrice      1379 non-null   int64  \n",
      "dtypes: float64(3), int64(32)\n",
      "memory usage: 377.2 KB\n"
     ]
    }
   ],
   "source": [
    "#2\n",
    "df.info()"
   ]
  },
  {
   "cell_type": "code",
   "execution_count": 15,
   "metadata": {},
   "outputs": [
    {
     "data": {
      "text/plain": [
       "dtype('float64')"
      ]
     },
     "execution_count": 15,
     "metadata": {},
     "output_type": "execute_result"
    }
   ],
   "source": [
    "#3\n",
    "df['GarageYrBlt'].dtype"
   ]
  },
  {
   "cell_type": "code",
   "execution_count": 8,
   "metadata": {
    "colab": {
     "base_uri": "https://localhost:8080/",
     "height": 34
    },
    "colab_type": "code",
    "id": "aXIycO-l1-8n",
    "outputId": "26308a72-89e5-43dd-e95d-a7d065276911"
   },
   "outputs": [
    {
     "data": {
      "text/plain": [
       "185479.511240029"
      ]
     },
     "execution_count": 8,
     "metadata": {},
     "output_type": "execute_result"
    }
   ],
   "source": [
    "#4\n",
    "df['SalePrice'].mean()"
   ]
  },
  {
   "cell_type": "code",
   "execution_count": 9,
   "metadata": {
    "colab": {
     "base_uri": "https://localhost:8080/",
     "height": 34
    },
    "colab_type": "code",
    "id": "N2iQA9Nd2Wsk",
    "outputId": "9dc65c1a-429b-48d9-a210-2dab30b27db9"
   },
   "outputs": [
    {
     "data": {
      "text/plain": [
       "994"
      ]
     },
     "execution_count": 9,
     "metadata": {},
     "output_type": "execute_result"
    }
   ],
   "source": [
    "#5\n",
    "df1=df[df['YearBuilt']<2000]\n",
    "len(df1)"
   ]
  },
  {
   "cell_type": "code",
   "execution_count": 10,
   "metadata": {
    "colab": {
     "base_uri": "https://localhost:8080/",
     "height": 34
    },
    "colab_type": "code",
    "id": "RAiETifP3h6Q",
    "outputId": "9a28bc4f-0536-4966-9b31-31bb46cb43f2"
   },
   "outputs": [
    {
     "data": {
      "text/plain": [
       "611657"
      ]
     },
     "execution_count": 10,
     "metadata": {},
     "output_type": "execute_result"
    }
   ],
   "source": [
    "#6\n",
    "df2=df[df['YearBuilt']>2000]\n",
    "df2['SalePrice'].max()"
   ]
  },
  {
   "cell_type": "code",
   "execution_count": 11,
   "metadata": {
    "colab": {
     "base_uri": "https://localhost:8080/",
     "height": 34
    },
    "colab_type": "code",
    "id": "9sfnfeHt3vOJ",
    "outputId": "e4e0ec6a-a0dd-4a7f-ae05-e475e5dc2017"
   },
   "outputs": [
    {
     "data": {
      "text/plain": [
       "348849.1304347826"
      ]
     },
     "execution_count": 11,
     "metadata": {},
     "output_type": "execute_result"
    }
   ],
   "source": [
    "#7\n",
    "df3=df[df['YearBuilt']==2008]\n",
    "df3['SalePrice'].mean()"
   ]
  },
  {
   "cell_type": "code",
   "execution_count": null,
   "metadata": {
    "colab": {},
    "colab_type": "code",
    "id": "fwfeGn3t37_v"
   },
   "outputs": [],
   "source": []
  }
 ],
 "metadata": {
  "colab": {
   "name": "Untitled5.ipynb",
   "provenance": []
  },
  "kernelspec": {
   "display_name": "Python 3",
   "language": "python",
   "name": "python3"
  },
  "language_info": {
   "codemirror_mode": {
    "name": "ipython",
    "version": 3
   },
   "file_extension": ".py",
   "mimetype": "text/x-python",
   "name": "python",
   "nbconvert_exporter": "python",
   "pygments_lexer": "ipython3",
   "version": "3.8.2"
  }
 },
 "nbformat": 4,
 "nbformat_minor": 4
}
